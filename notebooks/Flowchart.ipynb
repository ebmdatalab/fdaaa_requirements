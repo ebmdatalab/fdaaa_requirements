{
 "cells": [
  {
   "cell_type": "code",
   "execution_count": null,
   "metadata": {},
   "outputs": [],
   "source": [
    "import schemdraw\n",
    "from schemdraw import flow"
   ]
  },
  {
   "cell_type": "code",
   "execution_count": null,
   "metadata": {},
   "outputs": [],
   "source": [
    "#Long strings for below\n",
    "\n",
    "verification_exclusions = 'Newly registered\\n(n=4366)\\nFully completed\\nw/ results\\n(n=2914)\\nPending trials\\n(n=593)'\n",
    "\n",
    "qc_results = 'Pending QC\\n(n=601)\\nCompleted QC\\n(n=3221)\\nTotal Submitted\\n(n=3821)'"
   ]
  },
  {
   "cell_type": "code",
   "execution_count": null,
   "metadata": {
    "lines_to_next_cell": 0
   },
   "outputs": [],
   "source": [
    "d = schemdraw.Drawing()\n",
    "#Getting to Covered Trials\n",
    "total = d.add(flow.Box(w=10, h=2, label= 'Registered Trials on ClinicalTrials.gov\\n(N=327154)'))\n",
    "d.add(flow.Arrow('down'))\n",
    "d.add(flow.Arrow('right', at=(0, -3.5)))\n",
    "not_covered = d.add(flow.Box(w=5, h=2, label='Not identifiable\\nas FDAAA covered\\n(n=304252)', anchor='W'))\n",
    "pop = d.add(flow.Box(w=30, h=1, at=(0,-5), label='All Covered Trials (N=22902)'))\n",
    "\n",
    "#Registration Pop\n",
    "d.add(flow.Line('down',  at=(-12,-6), l=1))\n",
    "reg = d.add(flow.Box(w=4, h=2, label='Registration\\n(No exclusions)'))\n",
    "d.add(flow.Arrow('down', l=2))\n",
    "pop_reg = d.add(flow.Box(w=4.5, h=2, label='Registered Trials\\n(n=22902)'))\n",
    "\n",
    "#Verification Pop\n",
    "d.add(flow.Line('down', at=(-7, -6), l=1))\n",
    "veri = d.add(flow.Box(w=3, h=1, label = 'Verification'))\n",
    "d.add(flow.Line('down'))\n",
    "d.add(flow.Arrow('right', l=1))\n",
    "veri_exclude = d.add(flow.Box(w=3, h=3, label = verification_exclusions, fontsize=9, anchor='W'))\n",
    "d.add(flow.Arrow('down', at=(-7,-11), l=3))\n",
    "veri_pop = d.add(flow.Box(w=4.5, h=2, label='Require Verification\\n(n=15029)'))\n",
    "\n",
    "#Certificate of Delay Pop\n",
    "d.add(flow.Line('down', at=(0, -6), l=1))\n",
    "cod = d.add(flow.Box(w=3, h=1.5, label = 'Certificates\\nof Delay'))\n",
    "d.add(flow.Line('down', l=2))\n",
    "d.add(flow.Arrow('right', l=1))\n",
    "cod_exclude = d.add(flow.Box(w=3, h=1.5, label=f'No Certificate\\n(n={22902-857})', anchor='W', fontsize=10))\n",
    "d.add(flow.Arrow('down', at=(0, -10.5), l=2.5))\n",
    "certificate_pop = d.add(flow.Box(w=4.5, h=2, label='Has Certificate\\n(n=857)'))\n",
    "\n",
    "#QC Pop\n",
    "d.add(flow.Line('down', at=(6, -6), l=1))\n",
    "qc = d.add(flow.Box(w=3, h=1, label = 'QC Analysis'))\n",
    "d.add(flow.Line('down', l=1.5))\n",
    "d.add(flow.Arrow('right', l=1))\n",
    "no_results = d.add(flow.Box(w=3, h=2, label=f'No Results\\nSubmission\\n(n={22902-3822})', anchor='W', fontsize=10))\n",
    "d.add(flow.Arrow('down', at=(6, -9.5), l=1.5))\n",
    "results = d.add(flow.Box(w=3, h=3, label=qc_results, fontsize=10))\n",
    "d.add(flow.Line('down', l=1.5))\n",
    "d.add(flow.Arrow('right', l=1))\n",
    "no_detail = d.add(flow.Box(w=2.5, h=1.5, label=f'No QC Detail\\n(n={3822-3793})', anchor='W', fontsize=10))\n",
    "d.add(flow.Arrow('down', at=(6, -15.5), l=1.5))\n",
    "detailed = d.add(flow.Box(w=3, h=2, label=\"Detailed QC\\nData\\n(n=3793)\"))\n",
    "\n",
    "#Results Docs Pop\n",
    "d.add(flow.Line('down', at=(12,-6), l=1))\n",
    "docs = d.add(flow.Box(w=3, h=1.5, label='Results\\nDocuments'))\n",
    "d.add(flow.Line('down', l=1.5))\n",
    "d.add(flow.Arrow('right', l=1))\n",
    "not_due = d.add(flow.Box(w=3, h=1.5, label=f'Results Not Due\\n(n={22902-5320})', anchor='W', fontsize=10))\n",
    "d.add(flow.Arrow('down', at=(12, -10), l=2))\n",
    "due = d.add(flow.Box(w=3, h=1.5, label='Results Due\\n(n=5320)'))\n",
    "d.add(flow.Line('down', l=1.5))\n",
    "d.add(flow.Arrow('right', l=1))\n",
    "no_results = d.add(flow.Box(w=3, h=2, label='No Results\\n(n=1911)\\nPending Results\\n(n=476)', anchor='W', fontsize=10))\n",
    "d.add(flow.Arrow('down', l=2, at=(12, -15)))\n",
    "due_results = d.add(flow.Box(w=3.5, h=2, label=\"Due w/ Results\\n(n=2933)\"))\n",
    "#d.save('figures/flowchart.svg')\n",
    "d.draw()"
   ]
  },
  {
   "cell_type": "code",
   "execution_count": null,
   "metadata": {
    "lines_to_next_cell": 2
   },
   "outputs": [],
   "source": []
  }
 ],
 "metadata": {
  "jupytext": {
   "cell_metadata_filter": "all",
   "notebook_metadata_filter": "all,-language_info",
   "text_representation": {
    "extension": ".py",
    "format_name": "light",
    "format_version": "1.5",
    "jupytext_version": "1.3.3"
   }
  },
  "kernelspec": {
   "display_name": "Python 3",
   "language": "python",
   "name": "python3"
  },
  "language_info": {
   "codemirror_mode": {
    "name": "ipython",
    "version": 3
   },
   "file_extension": ".py",
   "mimetype": "text/x-python",
   "name": "python",
   "nbconvert_exporter": "python",
   "pygments_lexer": "ipython3",
   "version": "3.8.1"
  }
 },
 "nbformat": 4,
 "nbformat_minor": 4
}
